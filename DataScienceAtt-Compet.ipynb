{
 "cells": [
  {
   "cell_type": "markdown",
   "id": "54981490",
   "metadata": {},
   "source": [
    "\"\"\"\n",
    "# Atividade de Data Science: Análise de Indicadores Socioeconômicos (INEP 2021)\n",
    "\n",
    "Este notebook apresenta:\n",
    "\n",
    "1. Descrição do conjunto de dados (INEP 2021 – Indicadores Socioeconômicos)\n",
    "2. Leitura do arquivo Excel\n",
    "3. Data Wrangling: seleção de atributos, tratamento de valores faltantes e inconsistentes\n",
    "4. Interpretação dos resultados de `info()` e `describe()`\n",
    "5. Operações de agregação com `groupby`\n",
    "6. Visualizações de padrões e tendências\n",
    "7. Exportação do conjunto de dados tratado para Power BI (CSV)\n",
    "\"\"\""
   ]
  },
  {
   "cell_type": "markdown",
   "id": "19739f38",
   "metadata": {},
   "source": [
    "\"\"\"\n",
    "## 1. Descrição do Conjunto de Dados\n",
    "\n",
    "Os dados referem-se aos indicadores socioeconômicos do Brasil em 2021, disponibilizados pelo INEP. Contém informações como:\n",
    "- Código e nome da unidade da federação\n",
    "- Renda média domiciliar per capita\n",
    "- Percentual de professores com graduação, mestrado e doutorado\n",
    "- Índice de Desenvolvimento Humano (IDH) municipal\n",
    "- Taxas de analfabetismo\n",
    "- Outros indicadores relevantes para avaliação socioeconômica e educacional\n",
    "\n",
    "O objetivo é preparar o dataset para análise exploratória e posterior criação de dashboards no Power BI.\n",
    "\"\"\""
   ]
  },
  {
   "cell_type": "markdown",
   "id": "894208e5",
   "metadata": {},
   "source": [
    "# %%\n",
    "# 2. Importação de Bibliotecas"
   ]
  },
  {
   "cell_type": "code",
   "execution_count": null,
   "id": "eb8b3f1d",
   "metadata": {},
   "outputs": [],
   "source": [
    "import pandas as pd\n",
    "import numpy as np\n",
    "import matplotlib.pyplot as plt"
   ]
  },
  {
   "cell_type": "markdown",
   "id": "7f0fad90",
   "metadata": {},
   "source": [
    "# Configurações globais de visualização"
   ]
  },
  {
   "cell_type": "code",
   "execution_count": 2,
   "id": "97dadd25",
   "metadata": {},
   "outputs": [],
   "source": [
    "plt.rcParams['figure.figsize'] = (10, 6)"
   ]
  },
  {
   "cell_type": "markdown",
   "id": "54469ba2",
   "metadata": {},
   "source": [
    "# %%\n",
    "# 3. Leitura do arquivo Excel"
   ]
  },
  {
   "cell_type": "code",
   "execution_count": 4,
   "id": "d469588a",
   "metadata": {},
   "outputs": [],
   "source": [
    "file_path = 'data/INSE_2021__brasil.xlsx '"
   ]
  },
  {
   "cell_type": "code",
   "execution_count": 7,
   "id": "e2f936f8",
   "metadata": {},
   "outputs": [],
   "source": [
    "df = pd.read_excel(file_path, sheet_name='INSE_BR_2021')"
   ]
  },
  {
   "cell_type": "code",
   "execution_count": null,
   "id": "3d26942e",
   "metadata": {},
   "outputs": [
    {
     "data": {
      "text/html": [
       "<div>\n",
       "<style scoped>\n",
       "    .dataframe tbody tr th:only-of-type {\n",
       "        vertical-align: middle;\n",
       "    }\n",
       "\n",
       "    .dataframe tbody tr th {\n",
       "        vertical-align: top;\n",
       "    }\n",
       "\n",
       "    .dataframe thead th {\n",
       "        text-align: right;\n",
       "    }\n",
       "</style>\n",
       "<table border=\"1\" class=\"dataframe\">\n",
       "  <thead>\n",
       "    <tr style=\"text-align: right;\">\n",
       "      <th></th>\n",
       "      <th>NU_ANO_SAEB</th>\n",
       "      <th>TP_TIPO_REDE</th>\n",
       "      <th>TP_LOCALIZACAO</th>\n",
       "      <th>TP_CAPITAL</th>\n",
       "      <th>QTD_ALUNOS_INSE</th>\n",
       "      <th>MEDIA_INSE</th>\n",
       "      <th>PC_NIVEL_1</th>\n",
       "      <th>PC_NIVEL_2</th>\n",
       "      <th>PC_NIVEL_3</th>\n",
       "      <th>PC_NIVEL_4</th>\n",
       "      <th>PC_NIVEL_5</th>\n",
       "      <th>PC_NIVEL_6</th>\n",
       "      <th>PC_NIVEL_7</th>\n",
       "      <th>PC_NIVEL_8</th>\n",
       "    </tr>\n",
       "  </thead>\n",
       "  <tbody>\n",
       "    <tr>\n",
       "      <th>0</th>\n",
       "      <td>2021</td>\n",
       "      <td>0</td>\n",
       "      <td>0</td>\n",
       "      <td>0</td>\n",
       "      <td>5006256</td>\n",
       "      <td>5.05</td>\n",
       "      <td>1.52</td>\n",
       "      <td>11.95</td>\n",
       "      <td>15.08</td>\n",
       "      <td>19.84</td>\n",
       "      <td>19.88</td>\n",
       "      <td>15.55</td>\n",
       "      <td>13.62</td>\n",
       "      <td>2.58</td>\n",
       "    </tr>\n",
       "    <tr>\n",
       "      <th>1</th>\n",
       "      <td>2021</td>\n",
       "      <td>0</td>\n",
       "      <td>0</td>\n",
       "      <td>1</td>\n",
       "      <td>954020</td>\n",
       "      <td>5.21</td>\n",
       "      <td>0.67</td>\n",
       "      <td>7.75</td>\n",
       "      <td>13.94</td>\n",
       "      <td>20.46</td>\n",
       "      <td>20.63</td>\n",
       "      <td>16.38</td>\n",
       "      <td>16.50</td>\n",
       "      <td>3.67</td>\n",
       "    </tr>\n",
       "    <tr>\n",
       "      <th>2</th>\n",
       "      <td>2021</td>\n",
       "      <td>0</td>\n",
       "      <td>0</td>\n",
       "      <td>2</td>\n",
       "      <td>4052236</td>\n",
       "      <td>5.00</td>\n",
       "      <td>1.76</td>\n",
       "      <td>13.17</td>\n",
       "      <td>15.41</td>\n",
       "      <td>19.66</td>\n",
       "      <td>19.66</td>\n",
       "      <td>15.30</td>\n",
       "      <td>12.78</td>\n",
       "      <td>2.26</td>\n",
       "    </tr>\n",
       "    <tr>\n",
       "      <th>3</th>\n",
       "      <td>2021</td>\n",
       "      <td>0</td>\n",
       "      <td>1</td>\n",
       "      <td>0</td>\n",
       "      <td>4512129</td>\n",
       "      <td>5.11</td>\n",
       "      <td>1.12</td>\n",
       "      <td>10.28</td>\n",
       "      <td>14.40</td>\n",
       "      <td>19.89</td>\n",
       "      <td>20.55</td>\n",
       "      <td>16.40</td>\n",
       "      <td>14.57</td>\n",
       "      <td>2.79</td>\n",
       "    </tr>\n",
       "    <tr>\n",
       "      <th>4</th>\n",
       "      <td>2021</td>\n",
       "      <td>0</td>\n",
       "      <td>1</td>\n",
       "      <td>1</td>\n",
       "      <td>940231</td>\n",
       "      <td>5.22</td>\n",
       "      <td>0.64</td>\n",
       "      <td>7.58</td>\n",
       "      <td>13.84</td>\n",
       "      <td>20.43</td>\n",
       "      <td>20.69</td>\n",
       "      <td>16.48</td>\n",
       "      <td>16.64</td>\n",
       "      <td>3.70</td>\n",
       "    </tr>\n",
       "  </tbody>\n",
       "</table>\n",
       "</div>"
      ],
      "text/plain": [
       "   NU_ANO_SAEB  TP_TIPO_REDE  TP_LOCALIZACAO  TP_CAPITAL  QTD_ALUNOS_INSE  \\\n",
       "0         2021             0               0           0          5006256   \n",
       "1         2021             0               0           1           954020   \n",
       "2         2021             0               0           2          4052236   \n",
       "3         2021             0               1           0          4512129   \n",
       "4         2021             0               1           1           940231   \n",
       "\n",
       "   MEDIA_INSE  PC_NIVEL_1  PC_NIVEL_2  PC_NIVEL_3  PC_NIVEL_4  PC_NIVEL_5  \\\n",
       "0        5.05        1.52       11.95       15.08       19.84       19.88   \n",
       "1        5.21        0.67        7.75       13.94       20.46       20.63   \n",
       "2        5.00        1.76       13.17       15.41       19.66       19.66   \n",
       "3        5.11        1.12       10.28       14.40       19.89       20.55   \n",
       "4        5.22        0.64        7.58       13.84       20.43       20.69   \n",
       "\n",
       "   PC_NIVEL_6  PC_NIVEL_7  PC_NIVEL_8  \n",
       "0       15.55       13.62        2.58  \n",
       "1       16.38       16.50        3.67  \n",
       "2       15.30       12.78        2.26  \n",
       "3       16.40       14.57        2.79  \n",
       "4       16.48       16.64        3.70  "
      ]
     },
     "execution_count": 8,
     "metadata": {},
     "output_type": "execute_result"
    }
   ],
   "source": [
    "# Visualizar as primeiras linhas\n",
    "df.head()"
   ]
  },
  {
   "cell_type": "markdown",
   "id": "e855272c",
   "metadata": {},
   "source": [
    "# %%\n",
    "# 4. Informação Geral do DataFrame"
   ]
  },
  {
   "cell_type": "code",
   "execution_count": 9,
   "id": "c0e4213d",
   "metadata": {},
   "outputs": [
    {
     "name": "stdout",
     "output_type": "stream",
     "text": [
      "### Info do DataFrame\n",
      "<class 'pandas.core.frame.DataFrame'>\n",
      "RangeIndex: 63 entries, 0 to 62\n",
      "Data columns (total 14 columns):\n",
      " #   Column           Non-Null Count  Dtype  \n",
      "---  ------           --------------  -----  \n",
      " 0   NU_ANO_SAEB      63 non-null     int64  \n",
      " 1   TP_TIPO_REDE     63 non-null     int64  \n",
      " 2   TP_LOCALIZACAO   63 non-null     int64  \n",
      " 3   TP_CAPITAL       63 non-null     int64  \n",
      " 4   QTD_ALUNOS_INSE  63 non-null     int64  \n",
      " 5   MEDIA_INSE       63 non-null     float64\n",
      " 6   PC_NIVEL_1       63 non-null     float64\n",
      " 7   PC_NIVEL_2       63 non-null     float64\n",
      " 8   PC_NIVEL_3       63 non-null     float64\n",
      " 9   PC_NIVEL_4       63 non-null     float64\n",
      " 10  PC_NIVEL_5       63 non-null     float64\n",
      " 11  PC_NIVEL_6       63 non-null     float64\n",
      " 12  PC_NIVEL_7       63 non-null     float64\n",
      " 13  PC_NIVEL_8       63 non-null     float64\n",
      "dtypes: float64(9), int64(5)\n",
      "memory usage: 7.0 KB\n"
     ]
    }
   ],
   "source": [
    "print(\"### Info do DataFrame\")\n",
    "df.info()\n"
   ]
  },
  {
   "cell_type": "code",
   "execution_count": 10,
   "id": "092b7e20",
   "metadata": {},
   "outputs": [
    {
     "name": "stdout",
     "output_type": "stream",
     "text": [
      "\n",
      "### Estatísticas Descritivas\n"
     ]
    },
    {
     "data": {
      "text/html": [
       "<div>\n",
       "<style scoped>\n",
       "    .dataframe tbody tr th:only-of-type {\n",
       "        vertical-align: middle;\n",
       "    }\n",
       "\n",
       "    .dataframe tbody tr th {\n",
       "        vertical-align: top;\n",
       "    }\n",
       "\n",
       "    .dataframe thead th {\n",
       "        text-align: right;\n",
       "    }\n",
       "</style>\n",
       "<table border=\"1\" class=\"dataframe\">\n",
       "  <thead>\n",
       "    <tr style=\"text-align: right;\">\n",
       "      <th></th>\n",
       "      <th>NU_ANO_SAEB</th>\n",
       "      <th>TP_TIPO_REDE</th>\n",
       "      <th>TP_LOCALIZACAO</th>\n",
       "      <th>TP_CAPITAL</th>\n",
       "      <th>QTD_ALUNOS_INSE</th>\n",
       "      <th>MEDIA_INSE</th>\n",
       "      <th>PC_NIVEL_1</th>\n",
       "      <th>PC_NIVEL_2</th>\n",
       "      <th>PC_NIVEL_3</th>\n",
       "      <th>PC_NIVEL_4</th>\n",
       "      <th>PC_NIVEL_5</th>\n",
       "      <th>PC_NIVEL_6</th>\n",
       "      <th>PC_NIVEL_7</th>\n",
       "      <th>PC_NIVEL_8</th>\n",
       "    </tr>\n",
       "  </thead>\n",
       "  <tbody>\n",
       "    <tr>\n",
       "      <th>count</th>\n",
       "      <td>63.0</td>\n",
       "      <td>63.000000</td>\n",
       "      <td>63.000000</td>\n",
       "      <td>63.000000</td>\n",
       "      <td>6.300000e+01</td>\n",
       "      <td>63.000000</td>\n",
       "      <td>63.000000</td>\n",
       "      <td>63.000000</td>\n",
       "      <td>63.000000</td>\n",
       "      <td>63.000000</td>\n",
       "      <td>63.000000</td>\n",
       "      <td>63.000000</td>\n",
       "      <td>63.000000</td>\n",
       "      <td>63.000000</td>\n",
       "    </tr>\n",
       "    <tr>\n",
       "      <th>mean</th>\n",
       "      <td>2021.0</td>\n",
       "      <td>3.000000</td>\n",
       "      <td>1.000000</td>\n",
       "      <td>1.000000</td>\n",
       "      <td>1.262254e+06</td>\n",
       "      <td>4.993651</td>\n",
       "      <td>1.888889</td>\n",
       "      <td>13.830635</td>\n",
       "      <td>15.978095</td>\n",
       "      <td>19.465079</td>\n",
       "      <td>18.409683</td>\n",
       "      <td>14.215397</td>\n",
       "      <td>13.523492</td>\n",
       "      <td>2.688889</td>\n",
       "    </tr>\n",
       "    <tr>\n",
       "      <th>std</th>\n",
       "      <td>0.0</td>\n",
       "      <td>2.016065</td>\n",
       "      <td>0.823055</td>\n",
       "      <td>0.823055</td>\n",
       "      <td>1.623459e+06</td>\n",
       "      <td>0.450953</td>\n",
       "      <td>1.858342</td>\n",
       "      <td>8.690147</td>\n",
       "      <td>5.571282</td>\n",
       "      <td>4.502826</td>\n",
       "      <td>3.638981</td>\n",
       "      <td>4.824508</td>\n",
       "      <td>10.262348</td>\n",
       "      <td>3.398115</td>\n",
       "    </tr>\n",
       "    <tr>\n",
       "      <th>min</th>\n",
       "      <td>2021.0</td>\n",
       "      <td>0.000000</td>\n",
       "      <td>0.000000</td>\n",
       "      <td>0.000000</td>\n",
       "      <td>7.700000e+01</td>\n",
       "      <td>4.300000</td>\n",
       "      <td>0.050000</td>\n",
       "      <td>0.680000</td>\n",
       "      <td>3.110000</td>\n",
       "      <td>8.040000</td>\n",
       "      <td>12.040000</td>\n",
       "      <td>5.630000</td>\n",
       "      <td>2.720000</td>\n",
       "      <td>0.270000</td>\n",
       "    </tr>\n",
       "    <tr>\n",
       "      <th>25%</th>\n",
       "      <td>2021.0</td>\n",
       "      <td>1.000000</td>\n",
       "      <td>0.000000</td>\n",
       "      <td>0.000000</td>\n",
       "      <td>1.974800e+04</td>\n",
       "      <td>4.780000</td>\n",
       "      <td>0.680000</td>\n",
       "      <td>9.380000</td>\n",
       "      <td>14.170000</td>\n",
       "      <td>18.945000</td>\n",
       "      <td>15.470000</td>\n",
       "      <td>12.295000</td>\n",
       "      <td>7.205000</td>\n",
       "      <td>0.825000</td>\n",
       "    </tr>\n",
       "    <tr>\n",
       "      <th>50%</th>\n",
       "      <td>2021.0</td>\n",
       "      <td>3.000000</td>\n",
       "      <td>1.000000</td>\n",
       "      <td>1.000000</td>\n",
       "      <td>4.803380e+05</td>\n",
       "      <td>4.970000</td>\n",
       "      <td>1.320000</td>\n",
       "      <td>12.090000</td>\n",
       "      <td>16.720000</td>\n",
       "      <td>20.340000</td>\n",
       "      <td>19.590000</td>\n",
       "      <td>15.250000</td>\n",
       "      <td>10.300000</td>\n",
       "      <td>1.100000</td>\n",
       "    </tr>\n",
       "    <tr>\n",
       "      <th>75%</th>\n",
       "      <td>2021.0</td>\n",
       "      <td>5.000000</td>\n",
       "      <td>2.000000</td>\n",
       "      <td>2.000000</td>\n",
       "      <td>2.002194e+06</td>\n",
       "      <td>5.160000</td>\n",
       "      <td>2.150000</td>\n",
       "      <td>16.210000</td>\n",
       "      <td>19.315000</td>\n",
       "      <td>22.360000</td>\n",
       "      <td>21.300000</td>\n",
       "      <td>16.485000</td>\n",
       "      <td>16.570000</td>\n",
       "      <td>3.230000</td>\n",
       "    </tr>\n",
       "    <tr>\n",
       "      <th>max</th>\n",
       "      <td>2021.0</td>\n",
       "      <td>6.000000</td>\n",
       "      <td>2.000000</td>\n",
       "      <td>2.000000</td>\n",
       "      <td>5.006256e+06</td>\n",
       "      <td>5.990000</td>\n",
       "      <td>6.140000</td>\n",
       "      <td>30.770000</td>\n",
       "      <td>25.590000</td>\n",
       "      <td>25.900000</td>\n",
       "      <td>29.650000</td>\n",
       "      <td>22.740000</td>\n",
       "      <td>37.640000</td>\n",
       "      <td>12.490000</td>\n",
       "    </tr>\n",
       "  </tbody>\n",
       "</table>\n",
       "</div>"
      ],
      "text/plain": [
       "       NU_ANO_SAEB  TP_TIPO_REDE  TP_LOCALIZACAO  TP_CAPITAL  QTD_ALUNOS_INSE  \\\n",
       "count         63.0     63.000000       63.000000   63.000000     6.300000e+01   \n",
       "mean        2021.0      3.000000        1.000000    1.000000     1.262254e+06   \n",
       "std            0.0      2.016065        0.823055    0.823055     1.623459e+06   \n",
       "min         2021.0      0.000000        0.000000    0.000000     7.700000e+01   \n",
       "25%         2021.0      1.000000        0.000000    0.000000     1.974800e+04   \n",
       "50%         2021.0      3.000000        1.000000    1.000000     4.803380e+05   \n",
       "75%         2021.0      5.000000        2.000000    2.000000     2.002194e+06   \n",
       "max         2021.0      6.000000        2.000000    2.000000     5.006256e+06   \n",
       "\n",
       "       MEDIA_INSE  PC_NIVEL_1  PC_NIVEL_2  PC_NIVEL_3  PC_NIVEL_4  PC_NIVEL_5  \\\n",
       "count   63.000000   63.000000   63.000000   63.000000   63.000000   63.000000   \n",
       "mean     4.993651    1.888889   13.830635   15.978095   19.465079   18.409683   \n",
       "std      0.450953    1.858342    8.690147    5.571282    4.502826    3.638981   \n",
       "min      4.300000    0.050000    0.680000    3.110000    8.040000   12.040000   \n",
       "25%      4.780000    0.680000    9.380000   14.170000   18.945000   15.470000   \n",
       "50%      4.970000    1.320000   12.090000   16.720000   20.340000   19.590000   \n",
       "75%      5.160000    2.150000   16.210000   19.315000   22.360000   21.300000   \n",
       "max      5.990000    6.140000   30.770000   25.590000   25.900000   29.650000   \n",
       "\n",
       "       PC_NIVEL_6  PC_NIVEL_7  PC_NIVEL_8  \n",
       "count   63.000000   63.000000   63.000000  \n",
       "mean    14.215397   13.523492    2.688889  \n",
       "std      4.824508   10.262348    3.398115  \n",
       "min      5.630000    2.720000    0.270000  \n",
       "25%     12.295000    7.205000    0.825000  \n",
       "50%     15.250000   10.300000    1.100000  \n",
       "75%     16.485000   16.570000    3.230000  \n",
       "max     22.740000   37.640000   12.490000  "
      ]
     },
     "execution_count": 10,
     "metadata": {},
     "output_type": "execute_result"
    }
   ],
   "source": [
    "print(\"\\n### Estatísticas Descritivas\")\n",
    "df.describe()"
   ]
  },
  {
   "cell_type": "markdown",
   "id": "a32bfccc",
   "metadata": {},
   "source": [
    "\"\"\"\n",
    "### Interpretação\n",
    "- **NU_ANO_SAEB**: Ano de aplicação do indicador.\n",
    "- **TP_TIPO_REDE**: Tipo de rede (municipal, estadual, federal).\n",
    "- **TP_LOCALIZACAO**: Localização da escola (urbana/rural).\n",
    "- **QTD_ALUNOS_INSE**: Quantidade de alunos considerados.\n",
    "- **MEDIA_INSE**: Média do índice socioeconômico.\n",
    "- **PC_NIVEL_1** a **PC_NIVEL_8**: Percentual de alunos em cada nível de INSE.\n",
    "\n",
    "Todas as colunas não apresentam valores nulos para esta tabela.\n",
    "\"\"\""
   ]
  },
  {
   "cell_type": "markdown",
   "id": "f215399d",
   "metadata": {},
   "source": [
    "# %%\n",
    "# 5. Data Wrangling\n",
    "\n",
    "# 5.1 Seleção de atributos relevantes"
   ]
  },
  {
   "cell_type": "code",
   "execution_count": null,
   "id": "e5432277",
   "metadata": {},
   "outputs": [
    {
     "data": {
      "text/plain": [
       "NU_ANO_SAEB        0\n",
       "TP_TIPO_REDE       0\n",
       "TP_LOCALIZACAO     0\n",
       "QTD_ALUNOS_INSE    0\n",
       "MEDIA_INSE         0\n",
       "PC_NIVEL_1         0\n",
       "PC_NIVEL_2         0\n",
       "PC_NIVEL_3         0\n",
       "PC_NIVEL_4         0\n",
       "PC_NIVEL_5         0\n",
       "PC_NIVEL_6         0\n",
       "PC_NIVEL_7         0\n",
       "PC_NIVEL_8         0\n",
       "dtype: int64"
      ]
     },
     "execution_count": 13,
     "metadata": {},
     "output_type": "execute_result"
    }
   ],
   "source": [
    "cols_relevantes = [\n",
    "    'NU_ANO_SAEB', 'TP_TIPO_REDE', 'TP_LOCALIZACAO',\n",
    "    'QTD_ALUNOS_INSE', 'MEDIA_INSE',\n",
    "    'PC_NIVEL_1', 'PC_NIVEL_2', 'PC_NIVEL_3', 'PC_NIVEL_4',\n",
    "    'PC_NIVEL_5', 'PC_NIVEL_6', 'PC_NIVEL_7', 'PC_NIVEL_8'\n",
    "]\n",
    "df_sel = df[cols_relevantes].copy()"
   ]
  },
  {
   "cell_type": "code",
   "execution_count": null,
   "id": "4277b982",
   "metadata": {},
   "outputs": [
    {
     "data": {
      "text/plain": [
       "NU_ANO_SAEB        0\n",
       "TP_TIPO_REDE       0\n",
       "TP_LOCALIZACAO     0\n",
       "QTD_ALUNOS_INSE    0\n",
       "MEDIA_INSE         0\n",
       "PC_NIVEL_1         0\n",
       "PC_NIVEL_2         0\n",
       "PC_NIVEL_3         0\n",
       "PC_NIVEL_4         0\n",
       "PC_NIVEL_5         0\n",
       "PC_NIVEL_6         0\n",
       "PC_NIVEL_7         0\n",
       "PC_NIVEL_8         0\n",
       "dtype: int64"
      ]
     },
     "execution_count": 12,
     "metadata": {},
     "output_type": "execute_result"
    }
   ],
   "source": [
    "# Confirmar que não há nulos\n",
    "df_sel.isna().sum()"
   ]
  },
  {
   "cell_type": "markdown",
   "id": "f2972738",
   "metadata": {},
   "source": [
    "# %%\n",
    "\"\"\"\n",
    "## 6. Operações de Agregação\n",
    "\n",
    "Exemplos:\n",
    "- Média de `MEDIA_INSE` por tipo de rede\n",
    "- Média de `MEDIA_INSE` por localidade\n",
    "\"\"\""
   ]
  },
  {
   "cell_type": "markdown",
   "id": "b5f4c26c",
   "metadata": {},
   "source": [
    "# %%\n",
    "# 6.1 Média de INSE por Tipo de Rede"
   ]
  },
  {
   "cell_type": "code",
   "execution_count": 14,
   "id": "7520f5e2",
   "metadata": {},
   "outputs": [
    {
     "data": {
      "text/html": [
       "<div>\n",
       "<style scoped>\n",
       "    .dataframe tbody tr th:only-of-type {\n",
       "        vertical-align: middle;\n",
       "    }\n",
       "\n",
       "    .dataframe tbody tr th {\n",
       "        vertical-align: top;\n",
       "    }\n",
       "\n",
       "    .dataframe thead th {\n",
       "        text-align: right;\n",
       "    }\n",
       "</style>\n",
       "<table border=\"1\" class=\"dataframe\">\n",
       "  <thead>\n",
       "    <tr style=\"text-align: right;\">\n",
       "      <th></th>\n",
       "      <th>TP_TIPO_REDE</th>\n",
       "      <th>MEDIA_INSE</th>\n",
       "    </tr>\n",
       "  </thead>\n",
       "  <tbody>\n",
       "    <tr>\n",
       "      <th>0</th>\n",
       "      <td>0</td>\n",
       "      <td>4.884444</td>\n",
       "    </tr>\n",
       "    <tr>\n",
       "      <th>1</th>\n",
       "      <td>1</td>\n",
       "      <td>5.338889</td>\n",
       "    </tr>\n",
       "    <tr>\n",
       "      <th>2</th>\n",
       "      <td>2</td>\n",
       "      <td>4.831111</td>\n",
       "    </tr>\n",
       "    <tr>\n",
       "      <th>3</th>\n",
       "      <td>3</td>\n",
       "      <td>4.688889</td>\n",
       "    </tr>\n",
       "    <tr>\n",
       "      <th>4</th>\n",
       "      <td>4</td>\n",
       "      <td>5.688889</td>\n",
       "    </tr>\n",
       "    <tr>\n",
       "      <th>5</th>\n",
       "      <td>5</td>\n",
       "      <td>4.760000</td>\n",
       "    </tr>\n",
       "    <tr>\n",
       "      <th>6</th>\n",
       "      <td>6</td>\n",
       "      <td>4.763333</td>\n",
       "    </tr>\n",
       "  </tbody>\n",
       "</table>\n",
       "</div>"
      ],
      "text/plain": [
       "   TP_TIPO_REDE  MEDIA_INSE\n",
       "0             0    4.884444\n",
       "1             1    5.338889\n",
       "2             2    4.831111\n",
       "3             3    4.688889\n",
       "4             4    5.688889\n",
       "5             5    4.760000\n",
       "6             6    4.763333"
      ]
     },
     "execution_count": 14,
     "metadata": {},
     "output_type": "execute_result"
    }
   ],
   "source": [
    "media_rede = df_sel.groupby('TP_TIPO_REDE')['MEDIA_INSE'].mean().reset_index()\n",
    "media_rede"
   ]
  },
  {
   "cell_type": "markdown",
   "id": "59972ddf",
   "metadata": {},
   "source": [
    "# 6.2 Média de INSE por Localização"
   ]
  },
  {
   "cell_type": "code",
   "execution_count": 17,
   "id": "725e46f0",
   "metadata": {},
   "outputs": [
    {
     "data": {
      "text/html": [
       "<div>\n",
       "<style scoped>\n",
       "    .dataframe tbody tr th:only-of-type {\n",
       "        vertical-align: middle;\n",
       "    }\n",
       "\n",
       "    .dataframe tbody tr th {\n",
       "        vertical-align: top;\n",
       "    }\n",
       "\n",
       "    .dataframe thead th {\n",
       "        text-align: right;\n",
       "    }\n",
       "</style>\n",
       "<table border=\"1\" class=\"dataframe\">\n",
       "  <thead>\n",
       "    <tr style=\"text-align: right;\">\n",
       "      <th></th>\n",
       "      <th>TP_LOCALIZACAO</th>\n",
       "      <th>MEDIA_INSE</th>\n",
       "    </tr>\n",
       "  </thead>\n",
       "  <tbody>\n",
       "    <tr>\n",
       "      <th>0</th>\n",
       "      <td>0</td>\n",
       "      <td>5.159524</td>\n",
       "    </tr>\n",
       "    <tr>\n",
       "      <th>1</th>\n",
       "      <td>1</td>\n",
       "      <td>5.197619</td>\n",
       "    </tr>\n",
       "    <tr>\n",
       "      <th>2</th>\n",
       "      <td>2</td>\n",
       "      <td>4.623810</td>\n",
       "    </tr>\n",
       "  </tbody>\n",
       "</table>\n",
       "</div>"
      ],
      "text/plain": [
       "   TP_LOCALIZACAO  MEDIA_INSE\n",
       "0               0    5.159524\n",
       "1               1    5.197619\n",
       "2               2    4.623810"
      ]
     },
     "execution_count": 17,
     "metadata": {},
     "output_type": "execute_result"
    }
   ],
   "source": [
    "media_local = df_sel.groupby('TP_LOCALIZACAO')['MEDIA_INSE'].mean().reset_index()\n",
    "media_local"
   ]
  },
  {
   "cell_type": "markdown",
   "id": "e8d79bb5",
   "metadata": {},
   "source": [
    "# %%\n",
    "\"\"\"\n",
    "## 7. Visualizações\n",
    "\"\"\"\n"
   ]
  },
  {
   "cell_type": "markdown",
   "id": "c7183b05",
   "metadata": {},
   "source": [
    "# 7.1 Barras: Média de INSE por Tipo de Rede"
   ]
  },
  {
   "cell_type": "code",
   "execution_count": 18,
   "id": "43ca8c38",
   "metadata": {},
   "outputs": [
    {
     "data": {
      "image/png": "[encoded data removed]",
      "text/plain": [
       "<Figure size 1000x600 with 1 Axes>"
      ]
     },
     "metadata": {},
     "output_type": "display_data"
    }
   ],
   "source": [
    "plt.figure()\n",
    "plt.bar(media_rede['TP_TIPO_REDE'].astype(str), media_rede['MEDIA_INSE'])\n",
    "plt.title('Média INSE por Tipo de Rede (2021)')\n",
    "plt.xlabel('Tipo de Rede')\n",
    "plt.ylabel('Média INSE')\n",
    "plt.show()"
   ]
  },
  {
   "cell_type": "markdown",
   "id": "5e2f9059",
   "metadata": {},
   "source": [
    "# 7.2 Barras: Média de INSE por Localização"
   ]
  },
  {
   "cell_type": "code",
   "execution_count": 19,
   "id": "3fd8097f",
   "metadata": {},
   "outputs": [
    {
     "data": {
      "image/png": "[encoded data removed]",
      "text/plain": [
       "<Figure size 1000x600 with 1 Axes>"
      ]
     },
     "metadata": {},
     "output_type": "display_data"
    }
   ],
   "source": [
    "plt.figure()\n",
    "plt.bar(media_local['TP_LOCALIZACAO'].astype(str), media_local['MEDIA_INSE'])\n",
    "plt.title('Média INSE por Localização (2021)')\n",
    "plt.xlabel('Localização')\n",
    "plt.ylabel('Média INSE')\n",
    "plt.show()"
   ]
  },
  {
   "cell_type": "markdown",
   "id": "00c9f713",
   "metadata": {},
   "source": [
    "# 7.3 Distribuição dos Percentuais dos Níveis de INSE\n",
    "# Agrupar percentual médio para cada nível"
   ]
  },
  {
   "cell_type": "code",
   "execution_count": 20,
   "id": "d939ad0e",
   "metadata": {},
   "outputs": [
    {
     "data": {
      "image/png": "[encoded data removed]",
      "text/plain": [
       "<Figure size 1000x600 with 1 Axes>"
      ]
     },
     "metadata": {},
     "output_type": "display_data"
    }
   ],
   "source": [
    "gb = df_sel[[f'PC_NIVEL_{i}' for i in range(1,9)]].mean().reset_index()\n",
    "gb.columns = ['Nível', 'Percentual']\n",
    "plt.figure()\n",
    "plt.bar(gb['Nível'], gb['Percentual'])\n",
    "plt.title('Percentual Médio por Nível INSE (2021)')\n",
    "plt.xlabel('Nível INSE')\n",
    "plt.ylabel('Percentual (%)')\n",
    "plt.show()"
   ]
  },
  {
   "cell_type": "markdown",
   "id": "d234e50f",
   "metadata": {},
   "source": [
    "# %%\n",
    "\"\"\"\n",
    "## 8. Exportação dos Dados Tratados\n",
    "\n",
    "## Exportar em CSV para uso no Power BI.\n",
    "\n",
    "\"\"\""
   ]
  },
  {
   "cell_type": "code",
   "execution_count": 24,
   "id": "095c663d",
   "metadata": {},
   "outputs": [
    {
     "name": "stdout",
     "output_type": "stream",
     "text": [
      "Arquivo tratado salvo em: data/INSE_2021__brasil.csv \n"
     ]
    }
   ],
   "source": [
    "output_path = 'data/INSE_2021__brasil.csv '\n",
    "df_sel.to_csv(output_path, index=False)\n",
    "print(f\"Arquivo tratado salvo em: {output_path}\")\n"
   ]
  }
 ],
 "metadata": {
  "kernelspec": {
   "display_name": "Python 3",
   "language": "python",
   "name": "python3"
  },
  "language_info": {
   "codemirror_mode": {
    "name": "ipython",
    "version": 3
   },
   "file_extension": ".py",
   "mimetype": "text/x-python",
   "name": "python",
   "nbconvert_exporter": "python",
   "pygments_lexer": "ipython3",
   "version": "3.11.9"
  }
 },
 "nbformat": 4,
 "nbformat_minor": 5
}
